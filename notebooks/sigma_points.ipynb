{
 "cells": [
  {
   "cell_type": "code",
   "execution_count": 1,
   "metadata": {},
   "outputs": [],
   "source": [
    "import matplotlib.pyplot as plt\n",
    "import numpy as np\n",
    "from track_estimators.unscented_kf import UnscentedKalmanFilter"
   ]
  },
  {
   "cell_type": "code",
   "execution_count": 2,
   "metadata": {},
   "outputs": [],
   "source": [
    "# Define system dynamics\n",
    "H = np.diag([1, 1])\n",
    "\n",
    "# Estimate Covariance\n",
    "P = np.diag([0.2, 0.9])\n",
    "\n",
    "# Define initial state\n",
    "x = np.array([0.5, 0.8])\n",
    "x = x.reshape(-1, 1)\n",
    "\n",
    "# Instantiate the UKF\n",
    "ukf = UnscentedKalmanFilter(H=H, P=P, x0=x)"
   ]
  },
  {
   "cell_type": "code",
   "execution_count": 3,
   "metadata": {},
   "outputs": [
    {
     "name": "stdout",
     "output_type": "stream",
     "text": [
      "Weights\n",
      "\n",
      " [[0.33333333 0.         0.         0.         0.        ]\n",
      " [0.         0.16666667 0.         0.         0.        ]\n",
      " [0.         0.         0.16666667 0.         0.        ]\n",
      " [0.         0.         0.         0.16666667 0.        ]\n",
      " [0.         0.         0.         0.         0.16666667]]\n",
      "0.33333333333333337\n"
     ]
    },
    {
     "data": {
      "text/plain": [
       "array([[ 0.5       ,  1.27459667,  0.5       , -0.27459667,  0.5       ],\n",
       "       [ 0.8       ,  0.8       ,  2.44316767,  0.8       , -0.84316767]])"
      ]
     },
     "execution_count": 3,
     "metadata": {},
     "output_type": "execute_result"
    }
   ],
   "source": [
    "# Compute weights\n",
    "ukf.compute_weights()\n",
    "\n",
    "# Compute sigma points\n",
    "ukf.compute_sigma_points()"
   ]
  },
  {
   "cell_type": "code",
   "execution_count": 5,
   "metadata": {},
   "outputs": [
    {
     "data": {
      "text/plain": [
       "array([[ 0.5       ,  1.27459667,  0.5       , -0.27459667,  0.5       ],\n",
       "       [ 0.8       ,  0.8       ,  2.44316767,  0.8       , -0.84316767]])"
      ]
     },
     "execution_count": 5,
     "metadata": {},
     "output_type": "execute_result"
    }
   ],
   "source": [
    "sigmap = ukf.sigma_points\n",
    "sigmap"
   ]
  },
  {
   "cell_type": "code",
   "execution_count": 20,
   "metadata": {},
   "outputs": [
    {
     "data": {
      "image/png": "[encoded data removed]",
      "text/plain": [
       "<Figure size 640x480 with 1 Axes>"
      ]
     },
     "metadata": {},
     "output_type": "display_data"
    }
   ],
   "source": [
    "plt.scatter(sigmap[0, :], sigmap[1, :], alpha=0.7, color='red', s=50, label=\"sigma points\")\n",
    "plt.scatter(x[0, :], x[1, :], color='green', marker=\"*\", alpha=0.7, label=\"mean\")\n",
    "plt.legend()\n",
    "plt.grid()"
   ]
  },
  {
   "cell_type": "code",
   "execution_count": null,
   "metadata": {},
   "outputs": [],
   "source": []
  }
 ],
 "metadata": {
  "kernelspec": {
   "display_name": "kalman",
   "language": "python",
   "name": "python3"
  },
  "language_info": {
   "codemirror_mode": {
    "name": "ipython",
    "version": 3
   },
   "file_extension": ".py",
   "mimetype": "text/x-python",
   "name": "python",
   "nbconvert_exporter": "python",
   "pygments_lexer": "ipython3",
   "version": "3.11.0"
  },
  "orig_nbformat": 4
 },
 "nbformat": 4,
 "nbformat_minor": 2
}
